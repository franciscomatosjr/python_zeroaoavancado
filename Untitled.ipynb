{
 "cells": [
  {
   "cell_type": "code",
   "execution_count": 6,
   "id": "302ac636",
   "metadata": {},
   "outputs": [
    {
     "name": "stdout",
     "output_type": "stream",
     "text": [
      "Não começa com J\n",
      "Começa com J\n",
      "Não começa com J\n"
     ]
    }
   ],
   "source": [
    "variavel = ['Luiz Otavio', 'Joãozinho', 'Maria']\n",
    "for valor in variavel:\n",
    "    if valor.startswith('J'):\n",
    "        print('Começa com J')\n",
    "    else:\n",
    "        print('Não começa com J')"
   ]
  }
 ],
 "metadata": {
  "kernelspec": {
   "display_name": "Python 3 (ipykernel)",
   "language": "python",
   "name": "python3"
  },
  "language_info": {
   "codemirror_mode": {
    "name": "ipython",
    "version": 3
   },
   "file_extension": ".py",
   "mimetype": "text/x-python",
   "name": "python",
   "nbconvert_exporter": "python",
   "pygments_lexer": "ipython3",
   "version": "3.9.7"
  }
 },
 "nbformat": 4,
 "nbformat_minor": 5
}
